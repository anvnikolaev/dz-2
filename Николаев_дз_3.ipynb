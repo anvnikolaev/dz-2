{
  "nbformat": 4,
  "nbformat_minor": 0,
  "metadata": {
    "colab": {
      "provenance": []
    },
    "kernelspec": {
      "name": "python3",
      "display_name": "Python 3"
    },
    "language_info": {
      "name": "python"
    }
  },
  "cells": [
    {
      "cell_type": "code",
      "source": [
        "class Batch:\n",
        "    def __init__(self, catalyst_1: str, catalyst_2: str):\n",
        "        self.catalyst_1 = catalyst_1\n",
        "        self.catalyst_2 = catalyst_2"
      ],
      "metadata": {
        "id": "MNJpELpofOPz"
      },
      "execution_count": 2,
      "outputs": []
    },
    {
      "cell_type": "code",
      "source": [
        "class Ammonia_Chamber:\n",
        "    def __init__(self, temp: float, pressure: float, impurity_perc: float, catalyst_1: str):\n",
        "        self.temp = temp\n",
        "        self.pressure = pressure\n",
        "        self.impurity_perc = impurity_perc\n",
        "        self.catalyst_1 = catalyst_1\n",
        "\n",
        "    def produce(self) -> Batch:\n",
        "        #производим аммиак\n",
        "        pass"
      ],
      "metadata": {
        "id": "T8eks0vAb9XJ"
      },
      "execution_count": 3,
      "outputs": []
    },
    {
      "cell_type": "code",
      "source": [
        "class Oxidation_Chamber:\n",
        "    def __init__(self, O2_percentage: float, catalyst_2: str):\n",
        "        self.O2_percentage = O2_percentage\n",
        "        self.catalyst_2 = catalyst_2\n",
        "\n",
        "    def oxidation(self, input: Batch) -> Batch:\n",
        "        #процесс окисления\n",
        "        pass"
      ],
      "metadata": {
        "id": "w-3401BMcEkQ"
      },
      "execution_count": 4,
      "outputs": []
    },
    {
      "cell_type": "code",
      "source": [
        "class Filter:\n",
        "    def __init__(self, producer: str, model: str, depreciation: float):\n",
        "        self.producer = producer\n",
        "        self.model = model\n",
        "        self.depreciation = depreciation\n",
        "\n",
        "    def check_filter(self):\n",
        "        #проверка  фильтра\n",
        "        pass\n",
        "\n",
        "    def replace(self):\n",
        "        #замена фильтра, если нужно\n",
        "        pass"
      ],
      "metadata": {
        "id": "9XwDK0HZcNy9"
      },
      "execution_count": 5,
      "outputs": []
    },
    {
      "cell_type": "code",
      "source": [
        "class Water_Chamber:\n",
        "    def __init__(self, water_volume: float, filter_info: Filter):\n",
        "        self.water_volume = water_volume\n",
        "        self.filter_info = filter_info\n",
        "\n",
        "    def absorb(self, input: Batch) -> Batch:\n",
        "        #процесс абсорб.\n",
        "        pass"
      ],
      "metadata": {
        "id": "YCnSPUV3cQcB"
      },
      "execution_count": 6,
      "outputs": []
    },
    {
      "cell_type": "code",
      "source": [
        "class Final_Chamber:\n",
        "    def __init__(self, acid_concentration: float):\n",
        "        self.acid_concentration = acid_concentration\n",
        "\n",
        "    def concentration(self, input: Batch):\n",
        "        #концентрация\n",
        "        pass\n",
        "\n",
        "    def removing(self, input: Batch):\n",
        "        #процесс удаления излишков\n",
        "        pass"
      ],
      "metadata": {
        "id": "iDHwX86IcShT"
      },
      "execution_count": 7,
      "outputs": []
    }
  ]
}